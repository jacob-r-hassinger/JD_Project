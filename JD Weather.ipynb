{
 "cells": [
  {
   "cell_type": "code",
   "execution_count": 1,
   "metadata": {},
   "outputs": [],
   "source": [
    "from weatherkey import key\n",
    "import requests\n",
    "import json\n",
    "from datetime import datetime\n",
    "import datetime as d"
   ]
  },
  {
   "cell_type": "code",
   "execution_count": 2,
   "metadata": {},
   "outputs": [],
   "source": [
    "def k_to_f(tempk):\n",
    "    tempf = int(tempk * (9/5) - 459.67)\n",
    "    return tempf"
   ]
  },
  {
   "cell_type": "code",
   "execution_count": 3,
   "metadata": {},
   "outputs": [],
   "source": [
    "def get_time(timestamp,timezone):\n",
    "    dt_object = datetime.utcfromtimestamp(timestamp)\n",
    "    local_time = (dt_object + d.timedelta(seconds=timezone)).strftime('%Y-%m-%d %H:%M:%S')\n",
    "    return local_time"
   ]
  },
  {
   "cell_type": "code",
   "execution_count": 4,
   "metadata": {},
   "outputs": [
    {
     "name": "stdout",
     "output_type": "stream",
     "text": [
      "Input city name: New York\n"
     ]
    }
   ],
   "source": [
    "cityname = input('Input city name: ')\n",
    "url = f'http://api.openweathermap.org/data/2.5/weather?q={cityname}&appid={key}'\n",
    "response = requests.get(url).json()"
   ]
  },
  {
   "cell_type": "code",
   "execution_count": 6,
   "metadata": {},
   "outputs": [],
   "source": [
    "results = {\n",
    "    'location': response['name'],\n",
    "    'current_temp': k_to_f(response['main']['temp']),\n",
    "    'high_temp': k_to_f(response['main']['temp_max']),\n",
    "    'low_temp': k_to_f(response['main']['temp_min']),\n",
    "    'sunrise': get_time(response['sys']['sunrise'], response['timezone']),\n",
    "    'sunset': get_time(response['sys']['sunset'], response['timezone'])\n",
    "}"
   ]
  },
  {
   "cell_type": "code",
   "execution_count": 7,
   "metadata": {},
   "outputs": [
    {
     "data": {
      "text/plain": [
       "{'location': 'New York',\n",
       " 'current_temp': 64,\n",
       " 'high_temp': 66,\n",
       " 'low_temp': 62,\n",
       " 'sunrise': '2021-04-05 06:32:26',\n",
       " 'sunset': '2021-04-05 19:24:25'}"
      ]
     },
     "execution_count": 7,
     "metadata": {},
     "output_type": "execute_result"
    }
   ],
   "source": [
    "results"
   ]
  },
  {
   "cell_type": "code",
   "execution_count": null,
   "metadata": {},
   "outputs": [],
   "source": []
  }
 ],
 "metadata": {
  "kernelspec": {
   "display_name": "Python 3",
   "language": "python",
   "name": "python3"
  },
  "language_info": {
   "codemirror_mode": {
    "name": "ipython",
    "version": 3
   },
   "file_extension": ".py",
   "mimetype": "text/x-python",
   "name": "python",
   "nbconvert_exporter": "python",
   "pygments_lexer": "ipython3",
   "version": "3.8.5"
  }
 },
 "nbformat": 4,
 "nbformat_minor": 4
}
